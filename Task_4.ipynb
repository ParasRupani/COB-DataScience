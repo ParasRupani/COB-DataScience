{
  "nbformat": 4,
  "nbformat_minor": 0,
  "metadata": {
    "colab": {
      "provenance": [],
      "authorship_tag": "ABX9TyPkh5kin2Q52+a7Ftgup5pe",
      "include_colab_link": true
    },
    "kernelspec": {
      "name": "python3",
      "display_name": "Python 3"
    },
    "language_info": {
      "name": "python"
    }
  },
  "cells": [
    {
      "cell_type": "markdown",
      "metadata": {
        "id": "view-in-github",
        "colab_type": "text"
      },
      "source": [
        "<a href=\"https://colab.research.google.com/github/ParasRupani/COB-DataScience/blob/main/Task_4.ipynb\" target=\"_parent\"><img src=\"https://colab.research.google.com/assets/colab-badge.svg\" alt=\"Open In Colab\"/></a>"
      ]
    },
    {
      "cell_type": "code",
      "execution_count": 1,
      "metadata": {
        "id": "4EgVbbD63koO"
      },
      "outputs": [],
      "source": [
        "import numpy as np\n",
        "import pandas as pd\n",
        "import matplotlib.pyplot as plt\n",
        "from bs4 import BeautifulSoup\n",
        "import requests\n",
        "from sklearn import linear_model\n",
        "from sklearn.linear_model import LinearRegression\n",
        "from sklearn.model_selection import train_test_split\n",
        "from sklearn.metrics import r2_score"
      ]
    },
    {
      "cell_type": "code",
      "source": [
        "Train_url = \"https://docs.google.com/spreadsheets/d/e/2PACX-1vRTK2NvcndgPX41Czu6Ft2Ho_nE-z50BgTqdzwFW0rsJ2nvyNLe2DoIg1COzUbgw80oaRBjfy5-WtFk/pubhtml\"\n",
        "\n",
        "test_url = \"https://docs.google.com/spreadsheets/d/e/2PACX-1vRyvZ7lknwiSghK9aen1SaTEYoN3JS40rrGLpcyrsVZy1tB2T4gn6Y3-cdzPUFCPMmmqREWefW3kl4_/pubhtml\""
      ],
      "metadata": {
        "id": "NdiXGheR3swg"
      },
      "execution_count": 10,
      "outputs": []
    },
    {
      "cell_type": "code",
      "source": [
        "response=requests.get(Train_url)\n",
        "response.raise_for_status()\n",
        "soup = BeautifulSoup(response.text, \"html.parser\")\n",
        "s = soup.find('table', {'class':'waffle'})\n",
        "tr = s.find_all('tr')\n",
        "x = [0,0]\n",
        "y = []\n",
        "for i in tr:\n",
        "    x=i.find_all('td',{'class':'s1'})\n",
        "    if len(x)>1:\n",
        "        y.append({'x':int(x[0].text.strip()),\n",
        "                  'y':x[1].text.strip()})"
      ],
      "metadata": {
        "id": "6GdtWnIo32LO"
      },
      "execution_count": 3,
      "outputs": []
    },
    {
      "cell_type": "code",
      "source": [
        "df = pd.DataFrame(y)\n",
        "df['y'] = pd.to_numeric(df['y'])\n",
        "df.to_csv('Train.csv',index=False)\n",
        "print(\"Train.csv Successful\")"
      ],
      "metadata": {
        "colab": {
          "base_uri": "https://localhost:8080/"
        },
        "id": "MEAF_G5O4E4M",
        "outputId": "bfce976b-016a-41b5-b6db-f05c9dbc4b77"
      },
      "execution_count": 6,
      "outputs": [
        {
          "output_type": "stream",
          "name": "stdout",
          "text": [
            "Train.csv Successful\n"
          ]
        }
      ]
    },
    {
      "cell_type": "code",
      "source": [
        "data = pd.read_csv('Train.csv')\n",
        "data.head()"
      ],
      "metadata": {
        "colab": {
          "base_uri": "https://localhost:8080/",
          "height": 206
        },
        "id": "YqtAQDgA4e57",
        "outputId": "79d93e2e-4591-4497-db52-1043363ecd50"
      },
      "execution_count": 7,
      "outputs": [
        {
          "output_type": "execute_result",
          "data": {
            "text/plain": [
              "    x          y\n",
              "0  24  21.549452\n",
              "1  50  47.464463\n",
              "2  15  17.218656\n",
              "3  38  36.586398\n",
              "4  87  87.288984"
            ],
            "text/html": [
              "\n",
              "  <div id=\"df-0f98a981-f8a9-4115-b12e-063626ad09c0\" class=\"colab-df-container\">\n",
              "    <div>\n",
              "<style scoped>\n",
              "    .dataframe tbody tr th:only-of-type {\n",
              "        vertical-align: middle;\n",
              "    }\n",
              "\n",
              "    .dataframe tbody tr th {\n",
              "        vertical-align: top;\n",
              "    }\n",
              "\n",
              "    .dataframe thead th {\n",
              "        text-align: right;\n",
              "    }\n",
              "</style>\n",
              "<table border=\"1\" class=\"dataframe\">\n",
              "  <thead>\n",
              "    <tr style=\"text-align: right;\">\n",
              "      <th></th>\n",
              "      <th>x</th>\n",
              "      <th>y</th>\n",
              "    </tr>\n",
              "  </thead>\n",
              "  <tbody>\n",
              "    <tr>\n",
              "      <th>0</th>\n",
              "      <td>24</td>\n",
              "      <td>21.549452</td>\n",
              "    </tr>\n",
              "    <tr>\n",
              "      <th>1</th>\n",
              "      <td>50</td>\n",
              "      <td>47.464463</td>\n",
              "    </tr>\n",
              "    <tr>\n",
              "      <th>2</th>\n",
              "      <td>15</td>\n",
              "      <td>17.218656</td>\n",
              "    </tr>\n",
              "    <tr>\n",
              "      <th>3</th>\n",
              "      <td>38</td>\n",
              "      <td>36.586398</td>\n",
              "    </tr>\n",
              "    <tr>\n",
              "      <th>4</th>\n",
              "      <td>87</td>\n",
              "      <td>87.288984</td>\n",
              "    </tr>\n",
              "  </tbody>\n",
              "</table>\n",
              "</div>\n",
              "    <div class=\"colab-df-buttons\">\n",
              "\n",
              "  <div class=\"colab-df-container\">\n",
              "    <button class=\"colab-df-convert\" onclick=\"convertToInteractive('df-0f98a981-f8a9-4115-b12e-063626ad09c0')\"\n",
              "            title=\"Convert this dataframe to an interactive table.\"\n",
              "            style=\"display:none;\">\n",
              "\n",
              "  <svg xmlns=\"http://www.w3.org/2000/svg\" height=\"24px\" viewBox=\"0 -960 960 960\">\n",
              "    <path d=\"M120-120v-720h720v720H120Zm60-500h600v-160H180v160Zm220 220h160v-160H400v160Zm0 220h160v-160H400v160ZM180-400h160v-160H180v160Zm440 0h160v-160H620v160ZM180-180h160v-160H180v160Zm440 0h160v-160H620v160Z\"/>\n",
              "  </svg>\n",
              "    </button>\n",
              "\n",
              "  <style>\n",
              "    .colab-df-container {\n",
              "      display:flex;\n",
              "      gap: 12px;\n",
              "    }\n",
              "\n",
              "    .colab-df-convert {\n",
              "      background-color: #E8F0FE;\n",
              "      border: none;\n",
              "      border-radius: 50%;\n",
              "      cursor: pointer;\n",
              "      display: none;\n",
              "      fill: #1967D2;\n",
              "      height: 32px;\n",
              "      padding: 0 0 0 0;\n",
              "      width: 32px;\n",
              "    }\n",
              "\n",
              "    .colab-df-convert:hover {\n",
              "      background-color: #E2EBFA;\n",
              "      box-shadow: 0px 1px 2px rgba(60, 64, 67, 0.3), 0px 1px 3px 1px rgba(60, 64, 67, 0.15);\n",
              "      fill: #174EA6;\n",
              "    }\n",
              "\n",
              "    .colab-df-buttons div {\n",
              "      margin-bottom: 4px;\n",
              "    }\n",
              "\n",
              "    [theme=dark] .colab-df-convert {\n",
              "      background-color: #3B4455;\n",
              "      fill: #D2E3FC;\n",
              "    }\n",
              "\n",
              "    [theme=dark] .colab-df-convert:hover {\n",
              "      background-color: #434B5C;\n",
              "      box-shadow: 0px 1px 3px 1px rgba(0, 0, 0, 0.15);\n",
              "      filter: drop-shadow(0px 1px 2px rgba(0, 0, 0, 0.3));\n",
              "      fill: #FFFFFF;\n",
              "    }\n",
              "  </style>\n",
              "\n",
              "    <script>\n",
              "      const buttonEl =\n",
              "        document.querySelector('#df-0f98a981-f8a9-4115-b12e-063626ad09c0 button.colab-df-convert');\n",
              "      buttonEl.style.display =\n",
              "        google.colab.kernel.accessAllowed ? 'block' : 'none';\n",
              "\n",
              "      async function convertToInteractive(key) {\n",
              "        const element = document.querySelector('#df-0f98a981-f8a9-4115-b12e-063626ad09c0');\n",
              "        const dataTable =\n",
              "          await google.colab.kernel.invokeFunction('convertToInteractive',\n",
              "                                                    [key], {});\n",
              "        if (!dataTable) return;\n",
              "\n",
              "        const docLinkHtml = 'Like what you see? Visit the ' +\n",
              "          '<a target=\"_blank\" href=https://colab.research.google.com/notebooks/data_table.ipynb>data table notebook</a>'\n",
              "          + ' to learn more about interactive tables.';\n",
              "        element.innerHTML = '';\n",
              "        dataTable['output_type'] = 'display_data';\n",
              "        await google.colab.output.renderOutput(dataTable, element);\n",
              "        const docLink = document.createElement('div');\n",
              "        docLink.innerHTML = docLinkHtml;\n",
              "        element.appendChild(docLink);\n",
              "      }\n",
              "    </script>\n",
              "  </div>\n",
              "\n",
              "\n",
              "<div id=\"df-b12f0795-933f-4189-816e-18b62a97ace2\">\n",
              "  <button class=\"colab-df-quickchart\" onclick=\"quickchart('df-b12f0795-933f-4189-816e-18b62a97ace2')\"\n",
              "            title=\"Suggest charts.\"\n",
              "            style=\"display:none;\">\n",
              "\n",
              "<svg xmlns=\"http://www.w3.org/2000/svg\" height=\"24px\"viewBox=\"0 0 24 24\"\n",
              "     width=\"24px\">\n",
              "    <g>\n",
              "        <path d=\"M19 3H5c-1.1 0-2 .9-2 2v14c0 1.1.9 2 2 2h14c1.1 0 2-.9 2-2V5c0-1.1-.9-2-2-2zM9 17H7v-7h2v7zm4 0h-2V7h2v10zm4 0h-2v-4h2v4z\"/>\n",
              "    </g>\n",
              "</svg>\n",
              "  </button>\n",
              "\n",
              "<style>\n",
              "  .colab-df-quickchart {\n",
              "      --bg-color: #E8F0FE;\n",
              "      --fill-color: #1967D2;\n",
              "      --hover-bg-color: #E2EBFA;\n",
              "      --hover-fill-color: #174EA6;\n",
              "      --disabled-fill-color: #AAA;\n",
              "      --disabled-bg-color: #DDD;\n",
              "  }\n",
              "\n",
              "  [theme=dark] .colab-df-quickchart {\n",
              "      --bg-color: #3B4455;\n",
              "      --fill-color: #D2E3FC;\n",
              "      --hover-bg-color: #434B5C;\n",
              "      --hover-fill-color: #FFFFFF;\n",
              "      --disabled-bg-color: #3B4455;\n",
              "      --disabled-fill-color: #666;\n",
              "  }\n",
              "\n",
              "  .colab-df-quickchart {\n",
              "    background-color: var(--bg-color);\n",
              "    border: none;\n",
              "    border-radius: 50%;\n",
              "    cursor: pointer;\n",
              "    display: none;\n",
              "    fill: var(--fill-color);\n",
              "    height: 32px;\n",
              "    padding: 0;\n",
              "    width: 32px;\n",
              "  }\n",
              "\n",
              "  .colab-df-quickchart:hover {\n",
              "    background-color: var(--hover-bg-color);\n",
              "    box-shadow: 0 1px 2px rgba(60, 64, 67, 0.3), 0 1px 3px 1px rgba(60, 64, 67, 0.15);\n",
              "    fill: var(--button-hover-fill-color);\n",
              "  }\n",
              "\n",
              "  .colab-df-quickchart-complete:disabled,\n",
              "  .colab-df-quickchart-complete:disabled:hover {\n",
              "    background-color: var(--disabled-bg-color);\n",
              "    fill: var(--disabled-fill-color);\n",
              "    box-shadow: none;\n",
              "  }\n",
              "\n",
              "  .colab-df-spinner {\n",
              "    border: 2px solid var(--fill-color);\n",
              "    border-color: transparent;\n",
              "    border-bottom-color: var(--fill-color);\n",
              "    animation:\n",
              "      spin 1s steps(1) infinite;\n",
              "  }\n",
              "\n",
              "  @keyframes spin {\n",
              "    0% {\n",
              "      border-color: transparent;\n",
              "      border-bottom-color: var(--fill-color);\n",
              "      border-left-color: var(--fill-color);\n",
              "    }\n",
              "    20% {\n",
              "      border-color: transparent;\n",
              "      border-left-color: var(--fill-color);\n",
              "      border-top-color: var(--fill-color);\n",
              "    }\n",
              "    30% {\n",
              "      border-color: transparent;\n",
              "      border-left-color: var(--fill-color);\n",
              "      border-top-color: var(--fill-color);\n",
              "      border-right-color: var(--fill-color);\n",
              "    }\n",
              "    40% {\n",
              "      border-color: transparent;\n",
              "      border-right-color: var(--fill-color);\n",
              "      border-top-color: var(--fill-color);\n",
              "    }\n",
              "    60% {\n",
              "      border-color: transparent;\n",
              "      border-right-color: var(--fill-color);\n",
              "    }\n",
              "    80% {\n",
              "      border-color: transparent;\n",
              "      border-right-color: var(--fill-color);\n",
              "      border-bottom-color: var(--fill-color);\n",
              "    }\n",
              "    90% {\n",
              "      border-color: transparent;\n",
              "      border-bottom-color: var(--fill-color);\n",
              "    }\n",
              "  }\n",
              "</style>\n",
              "\n",
              "  <script>\n",
              "    async function quickchart(key) {\n",
              "      const quickchartButtonEl =\n",
              "        document.querySelector('#' + key + ' button');\n",
              "      quickchartButtonEl.disabled = true;  // To prevent multiple clicks.\n",
              "      quickchartButtonEl.classList.add('colab-df-spinner');\n",
              "      try {\n",
              "        const charts = await google.colab.kernel.invokeFunction(\n",
              "            'suggestCharts', [key], {});\n",
              "      } catch (error) {\n",
              "        console.error('Error during call to suggestCharts:', error);\n",
              "      }\n",
              "      quickchartButtonEl.classList.remove('colab-df-spinner');\n",
              "      quickchartButtonEl.classList.add('colab-df-quickchart-complete');\n",
              "    }\n",
              "    (() => {\n",
              "      let quickchartButtonEl =\n",
              "        document.querySelector('#df-b12f0795-933f-4189-816e-18b62a97ace2 button');\n",
              "      quickchartButtonEl.style.display =\n",
              "        google.colab.kernel.accessAllowed ? 'block' : 'none';\n",
              "    })();\n",
              "  </script>\n",
              "</div>\n",
              "    </div>\n",
              "  </div>\n"
            ]
          },
          "metadata": {},
          "execution_count": 7
        }
      ]
    },
    {
      "cell_type": "code",
      "source": [
        "plt.xlabel('X')\n",
        "plt.ylabel('Y')\n",
        "plt.scatter(df[\"x\"],df[\"y\"])\n",
        "plt.show()"
      ],
      "metadata": {
        "colab": {
          "base_uri": "https://localhost:8080/",
          "height": 449
        },
        "id": "9TTU77Fu4VCJ",
        "outputId": "0f3f5f2a-1a5c-4958-cb36-1277a32fcab7"
      },
      "execution_count": 5,
      "outputs": [
        {
          "output_type": "display_data",
          "data": {
            "text/plain": [
              "<Figure size 640x480 with 1 Axes>"
            ],
            "image/png": "[encoded data removed]"
          },
          "metadata": {}
        }
      ]
    },
    {
      "cell_type": "code",
      "source": [
        "x_train = data[['x']]\n",
        "y_train = data['y']"
      ],
      "metadata": {
        "id": "8sTXYm224Y3W"
      },
      "execution_count": 8,
      "outputs": []
    },
    {
      "cell_type": "code",
      "source": [
        "from sklearn import linear_model\n",
        "model = linear_model.LinearRegression()\n",
        "model.fit(x_train,y_train)"
      ],
      "metadata": {
        "colab": {
          "base_uri": "https://localhost:8080/",
          "height": 74
        },
        "id": "ghI-zGsP4jeb",
        "outputId": "133d4a8b-5913-4a20-e16a-29fa7c5c6142"
      },
      "execution_count": 9,
      "outputs": [
        {
          "output_type": "execute_result",
          "data": {
            "text/plain": [
              "LinearRegression()"
            ],
            "text/html": [
              "<style>#sk-container-id-1 {color: black;background-color: white;}#sk-container-id-1 pre{padding: 0;}#sk-container-id-1 div.sk-toggleable {background-color: white;}#sk-container-id-1 label.sk-toggleable__label {cursor: pointer;display: block;width: 100%;margin-bottom: 0;padding: 0.3em;box-sizing: border-box;text-align: center;}#sk-container-id-1 label.sk-toggleable__label-arrow:before {content: \"▸\";float: left;margin-right: 0.25em;color: #696969;}#sk-container-id-1 label.sk-toggleable__label-arrow:hover:before {color: black;}#sk-container-id-1 div.sk-estimator:hover label.sk-toggleable__label-arrow:before {color: black;}#sk-container-id-1 div.sk-toggleable__content {max-height: 0;max-width: 0;overflow: hidden;text-align: left;background-color: #f0f8ff;}#sk-container-id-1 div.sk-toggleable__content pre {margin: 0.2em;color: black;border-radius: 0.25em;background-color: #f0f8ff;}#sk-container-id-1 input.sk-toggleable__control:checked~div.sk-toggleable__content {max-height: 200px;max-width: 100%;overflow: auto;}#sk-container-id-1 input.sk-toggleable__control:checked~label.sk-toggleable__label-arrow:before {content: \"▾\";}#sk-container-id-1 div.sk-estimator input.sk-toggleable__control:checked~label.sk-toggleable__label {background-color: #d4ebff;}#sk-container-id-1 div.sk-label input.sk-toggleable__control:checked~label.sk-toggleable__label {background-color: #d4ebff;}#sk-container-id-1 input.sk-hidden--visually {border: 0;clip: rect(1px 1px 1px 1px);clip: rect(1px, 1px, 1px, 1px);height: 1px;margin: -1px;overflow: hidden;padding: 0;position: absolute;width: 1px;}#sk-container-id-1 div.sk-estimator {font-family: monospace;background-color: #f0f8ff;border: 1px dotted black;border-radius: 0.25em;box-sizing: border-box;margin-bottom: 0.5em;}#sk-container-id-1 div.sk-estimator:hover {background-color: #d4ebff;}#sk-container-id-1 div.sk-parallel-item::after {content: \"\";width: 100%;border-bottom: 1px solid gray;flex-grow: 1;}#sk-container-id-1 div.sk-label:hover label.sk-toggleable__label {background-color: #d4ebff;}#sk-container-id-1 div.sk-serial::before {content: \"\";position: absolute;border-left: 1px solid gray;box-sizing: border-box;top: 0;bottom: 0;left: 50%;z-index: 0;}#sk-container-id-1 div.sk-serial {display: flex;flex-direction: column;align-items: center;background-color: white;padding-right: 0.2em;padding-left: 0.2em;position: relative;}#sk-container-id-1 div.sk-item {position: relative;z-index: 1;}#sk-container-id-1 div.sk-parallel {display: flex;align-items: stretch;justify-content: center;background-color: white;position: relative;}#sk-container-id-1 div.sk-item::before, #sk-container-id-1 div.sk-parallel-item::before {content: \"\";position: absolute;border-left: 1px solid gray;box-sizing: border-box;top: 0;bottom: 0;left: 50%;z-index: -1;}#sk-container-id-1 div.sk-parallel-item {display: flex;flex-direction: column;z-index: 1;position: relative;background-color: white;}#sk-container-id-1 div.sk-parallel-item:first-child::after {align-self: flex-end;width: 50%;}#sk-container-id-1 div.sk-parallel-item:last-child::after {align-self: flex-start;width: 50%;}#sk-container-id-1 div.sk-parallel-item:only-child::after {width: 0;}#sk-container-id-1 div.sk-dashed-wrapped {border: 1px dashed gray;margin: 0 0.4em 0.5em 0.4em;box-sizing: border-box;padding-bottom: 0.4em;background-color: white;}#sk-container-id-1 div.sk-label label {font-family: monospace;font-weight: bold;display: inline-block;line-height: 1.2em;}#sk-container-id-1 div.sk-label-container {text-align: center;}#sk-container-id-1 div.sk-container {/* jupyter's `normalize.less` sets `[hidden] { display: none; }` but bootstrap.min.css set `[hidden] { display: none !important; }` so we also need the `!important` here to be able to override the default hidden behavior on the sphinx rendered scikit-learn.org. See: https://github.com/scikit-learn/scikit-learn/issues/21755 */display: inline-block !important;position: relative;}#sk-container-id-1 div.sk-text-repr-fallback {display: none;}</style><div id=\"sk-container-id-1\" class=\"sk-top-container\"><div class=\"sk-text-repr-fallback\"><pre>LinearRegression()</pre><b>In a Jupyter environment, please rerun this cell to show the HTML representation or trust the notebook. <br />On GitHub, the HTML representation is unable to render, please try loading this page with nbviewer.org.</b></div><div class=\"sk-container\" hidden><div class=\"sk-item\"><div class=\"sk-estimator sk-toggleable\"><input class=\"sk-toggleable__control sk-hidden--visually\" id=\"sk-estimator-id-1\" type=\"checkbox\" checked><label for=\"sk-estimator-id-1\" class=\"sk-toggleable__label sk-toggleable__label-arrow\">LinearRegression</label><div class=\"sk-toggleable__content\"><pre>LinearRegression()</pre></div></div></div></div></div>"
            ]
          },
          "metadata": {},
          "execution_count": 9
        }
      ]
    },
    {
      "cell_type": "code",
      "source": [
        "response=requests.get(test_url)\n",
        "response.raise_for_status()\n",
        "soup = BeautifulSoup(response.text, \"html.parser\")\n",
        "s = soup.find('table', {'class':'waffle'})\n",
        "tr = s.find_all('tr')\n",
        "x = [0,0]\n",
        "y = []\n",
        "for i in tr:\n",
        "    x=i.find_all('td',{'class':'s1'})\n",
        "    if len(x)>1:\n",
        "        y.append({'x':int(x[0].text.strip()),\n",
        "                  'y':x[1].text.strip() })"
      ],
      "metadata": {
        "id": "1h90_-Zg4ljR"
      },
      "execution_count": 11,
      "outputs": []
    },
    {
      "cell_type": "code",
      "source": [
        "df = pd.DataFrame(y)\n",
        "df['y'] = pd.to_numeric(df['y'])\n",
        "df.to_csv('test.csv',index=False)\n",
        "print(\"test.csv Successful\")"
      ],
      "metadata": {
        "colab": {
          "base_uri": "https://localhost:8080/"
        },
        "id": "9XgSQWhb5BRx",
        "outputId": "4cc70a13-68d3-4d9c-d549-a98d4330c5fa"
      },
      "execution_count": 13,
      "outputs": [
        {
          "output_type": "stream",
          "name": "stdout",
          "text": [
            "test.csv Successful\n"
          ]
        }
      ]
    },
    {
      "cell_type": "code",
      "source": [
        "x_test = df[['x']]\n",
        "y_test = df['y']"
      ],
      "metadata": {
        "id": "stEGl0dS5DwT"
      },
      "execution_count": 14,
      "outputs": []
    },
    {
      "cell_type": "code",
      "source": [
        "y_pred = model.predict(x_test)\n",
        "y_pred"
      ],
      "metadata": {
        "colab": {
          "base_uri": "https://localhost:8080/"
        },
        "id": "DcSENXKj5KS4",
        "outputId": "463c0eb0-6cbd-4568-d8b3-92ba67717b45"
      },
      "execution_count": 15,
      "outputs": [
        {
          "output_type": "execute_result",
          "data": {
            "text/plain": [
              "array([76.94327594, 20.90651855, 21.90717494, 19.90586217, 35.91636428,\n",
              "       14.90258026, 61.93343021, 94.95509081, 19.90586217,  4.89601644,\n",
              "        3.89536006, 18.90520579, 95.95574719, 61.93343021, 35.91636428,\n",
              "       14.90258026, 64.93539936, 13.90192388, 86.94983976, 68.93802488,\n",
              "       88.95115252, 50.92621001, 88.95115252, 26.91045685, 96.95640358,\n",
              "       57.93080468, 78.9445887 , 20.90651855, 92.95377805, 26.91045685,\n",
              "       98.95771634, 30.91308237, 32.91439514, 79.94524508, 27.91111323,\n",
              "       46.92358448, 52.92752277, 68.93802488, 27.91111323, 32.91439514,\n",
              "       90.95246528, 70.93933765, 49.92555363, 75.94261956,  3.89536006,\n",
              "       36.91702066, 69.93868127, 67.9373685 , 39.91898981, 34.9157079 ,\n",
              "       93.95443443, 87.95049614, 51.92686639, 30.91308237, 58.93146107,\n",
              "       -0.10726546, 38.91833343, 63.93474297, 68.93802488, 56.9301483 ,\n",
              "       12.9012675 , 71.93999403, 75.94261956, 60.93277383, 81.94655785,\n",
              "       17.90454941, 40.91964619, 49.92555363, 54.92883554, 12.9012675 ,\n",
              "       45.9229281 , 12.9012675 , 78.9445887 , 52.92752277, 14.90258026,\n",
              "       27.91111323, 80.94590147, 68.93802488, 51.92686639, 83.94787061,\n",
              "       67.9373685 , 26.91045685, 55.92949192, 47.92424086, 39.91898981,\n",
              "       38.91833343, 81.94655785, 99.95837272, 58.93146107, 42.92095896,\n",
              "       66.93671212, 37.91767705, 62.93408659, 90.95246528, 59.93211745,\n",
              "       13.90192388, 20.90651855, 86.94983976, 72.94065041, 31.91373876,\n",
              "        1.8940473 , 81.94655785, 18.90520579, 73.94130679, 41.92030257,\n",
              "       11.90061112,  0.89339092, 89.9518089 , 88.95115252, -0.10726546,\n",
              "       40.91964619, 15.90323665, 93.95443443, 96.95640358, 65.93605574,\n",
              "       23.9084877 , 16.90389303, 89.9518089 , 12.9012675 , -0.10726546,\n",
              "       63.93474297, 95.95574719, 97.95705996, 11.90061112, 40.91964619,\n",
              "       46.92358448, 77.94393232, 19.90586217, 88.95115252, 28.91176961,\n",
              "       63.93474297, 74.94196317, 11.90061112, 24.90914408, 27.91111323,\n",
              "       29.91242599, 64.93539936, 58.93146107, 63.93474297, 52.92752277,\n",
              "       70.93933765, 96.95640358, 72.94065041,  8.89864197, 11.90061112,\n",
              "       62.93408659, 98.95771634, 59.93211745, 34.9157079 ,  1.8940473 ,\n",
              "       59.93211745, 31.91373876, 93.95443443, 83.94787061, 62.93408659,\n",
              "       21.90717494, 80.94590147, 92.95377805, 32.91439514,  6.89732921,\n",
              "       41.92030257, 45.9229281 , 53.92817916, 15.90323665, 48.92489725,\n",
              "       42.92095896, 94.95509081, 65.93605574, 20.90651855, 34.9157079 ,\n",
              "       79.94524508, 36.91702066, 53.92817916, 55.92949192,  0.89339092,\n",
              "       31.91373876, 57.93080468, 31.91373876, 45.9229281 , 71.93999403,\n",
              "       16.90389303, 96.95640358, 92.95377805, 90.95246528, 36.91702066,\n",
              "        3.89536006, 53.92817916, 50.92621001, 26.91045685, 45.9229281 ,\n",
              "       91.95312167, 72.94065041, 76.94327594, 90.95246528, 60.93277383,\n",
              "       98.95771634,  3.89536006, 71.93999403, 18.90520579, 56.9301483 ,\n",
              "       77.94393232, 25.90980046, 73.94130679, 89.9518089 , 65.93605574,\n",
              "       12.9012675 , 39.91898981, 76.94327594, 66.93671212, 74.94196317,\n",
              "       22.90783132, 44.92227172, 58.93146107, 43.92161534, 22.90783132,\n",
              "       54.92883554, 54.92883554, 94.95509081, 11.90061112,  3.89536006,\n",
              "        6.89732921, 99.95837272, 47.92424086, 41.92030257, 95.95574719,\n",
              "       38.91833343, 99.95837272, 86.94983976, 13.90192388, 13.90192388,\n",
              "       36.91702066,  4.89601644, 87.95049614, 90.95246528, 64.93539936,\n",
              "       73.94130679, 55.92949192, 15.90323665,  4.89601644, 27.91111323,\n",
              "       91.95312167, 45.9229281 , 53.92817916, 38.91833343, 43.92161534,\n",
              "       30.91308237, 67.9373685 , 85.94918338, 89.9518089 , 37.91767705,\n",
              "       20.90651855, 94.95509081, 55.92949192, 59.93211745, 64.93539936,\n",
              "       77.94393232, 88.95115252,  5.89667283, 66.93671212, 35.91636428,\n",
              "       15.90323665, 99.95837272, 44.92227172, 72.94065041, 56.9301483 ,\n",
              "       19.90586217, 75.94261956, 33.91505152, 54.92883554, 71.93999403,\n",
              "       54.92883554,  7.89798559, 55.92949192, 71.93999403, 57.93080468,\n",
              "        5.89667283, 95.95574719, 22.90783132, 57.93080468, 22.90783132,\n",
              "       18.90520579, 24.90914408, 63.93474297, 20.90651855, 58.93146107,\n",
              "       18.90520579, 15.90323665, 41.92030257, 42.92095896, 60.93277383,\n",
              "       91.95312167, 10.89995474, 40.91964619,  0.89339092,  7.89798559,\n",
              "       70.93933765, 45.9229281 , 54.92883554, 61.93343021, 46.92358448])"
            ]
          },
          "metadata": {},
          "execution_count": 15
        }
      ]
    },
    {
      "cell_type": "code",
      "source": [
        "plt.scatter(x_test, y_test, color='blue', label='Output')\n",
        "plt.plot(x_test, y_pred, color='red', linewidth=2, label='Predicted')\n",
        "plt.xlabel('x')\n",
        "plt.ylabel('y')\n",
        "plt.title('Linear Regression')\n",
        "plt.legend()\n",
        "plt.show()"
      ],
      "metadata": {
        "colab": {
          "base_uri": "https://localhost:8080/",
          "height": 472
        },
        "id": "NhWnMLB55MhO",
        "outputId": "68b46494-6c35-4105-9ccd-38dcc7108b17"
      },
      "execution_count": 16,
      "outputs": [
        {
          "output_type": "display_data",
          "data": {
            "text/plain": [
              "<Figure size 640x480 with 1 Axes>"
            ],
            "image/png": "[encoded data removed]"
          },
          "metadata": {}
        }
      ]
    },
    {
      "cell_type": "code",
      "source": [
        "r2 = r2_score(y_test, y_pred)\n",
        "print(\"R-squared Score:\", r2.round(3))"
      ],
      "metadata": {
        "colab": {
          "base_uri": "https://localhost:8080/"
        },
        "id": "gFWlD1sC5T5B",
        "outputId": "953a096d-b243-46d8-b56e-782cb84fc661"
      },
      "execution_count": 20,
      "outputs": [
        {
          "output_type": "stream",
          "name": "stdout",
          "text": [
            "R-squared Score: 0.989\n"
          ]
        }
      ]
    }
  ]
}